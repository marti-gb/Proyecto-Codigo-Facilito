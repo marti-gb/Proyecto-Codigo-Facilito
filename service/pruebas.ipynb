{
 "cells": [
  {
   "cell_type": "code",
   "execution_count": 1,
   "id": "18aa183a-a09b-48d3-a0de-dbd495b48141",
   "metadata": {},
   "outputs": [],
   "source": [
    "import requests\n",
    "import pandas as pd\n",
    "import numpy as np"
   ]
  },
  {
   "cell_type": "code",
   "execution_count": 2,
   "id": "eeab8a70-5a2d-404a-9e26-2bbd63a420c4",
   "metadata": {},
   "outputs": [
    {
     "data": {
      "text/html": [
       "<div>\n",
       "<style scoped>\n",
       "    .dataframe tbody tr th:only-of-type {\n",
       "        vertical-align: middle;\n",
       "    }\n",
       "\n",
       "    .dataframe tbody tr th {\n",
       "        vertical-align: top;\n",
       "    }\n",
       "\n",
       "    .dataframe thead th {\n",
       "        text-align: right;\n",
       "    }\n",
       "</style>\n",
       "<table border=\"1\" class=\"dataframe\">\n",
       "  <thead>\n",
       "    <tr style=\"text-align: right;\">\n",
       "      <th></th>\n",
       "      <th>Anho</th>\n",
       "      <th>FPI_Nominal</th>\n",
       "      <th>Precio_Brent</th>\n",
       "      <th>Inflacion_Mundial</th>\n",
       "    </tr>\n",
       "  </thead>\n",
       "  <tbody>\n",
       "    <tr>\n",
       "      <th>0</th>\n",
       "      <td>2022</td>\n",
       "      <td>143.653643</td>\n",
       "      <td>100.930000</td>\n",
       "      <td>7.967574</td>\n",
       "    </tr>\n",
       "    <tr>\n",
       "      <th>1</th>\n",
       "      <td>2023</td>\n",
       "      <td>123.990957</td>\n",
       "      <td>82.490000</td>\n",
       "      <td>1.804050</td>\n",
       "    </tr>\n",
       "    <tr>\n",
       "      <th>2</th>\n",
       "      <td>2024</td>\n",
       "      <td>119.458799</td>\n",
       "      <td>94.547055</td>\n",
       "      <td>1.638318</td>\n",
       "    </tr>\n",
       "    <tr>\n",
       "      <th>3</th>\n",
       "      <td>2025</td>\n",
       "      <td>121.302203</td>\n",
       "      <td>97.251413</td>\n",
       "      <td>1.472586</td>\n",
       "    </tr>\n",
       "    <tr>\n",
       "      <th>4</th>\n",
       "      <td>2026</td>\n",
       "      <td>123.153953</td>\n",
       "      <td>99.998239</td>\n",
       "      <td>1.306854</td>\n",
       "    </tr>\n",
       "    <tr>\n",
       "      <th>5</th>\n",
       "      <td>2027</td>\n",
       "      <td>125.014048</td>\n",
       "      <td>102.787532</td>\n",
       "      <td>1.141122</td>\n",
       "    </tr>\n",
       "    <tr>\n",
       "      <th>6</th>\n",
       "      <td>2028</td>\n",
       "      <td>126.882488</td>\n",
       "      <td>105.619294</td>\n",
       "      <td>0.975390</td>\n",
       "    </tr>\n",
       "    <tr>\n",
       "      <th>7</th>\n",
       "      <td>2029</td>\n",
       "      <td>128.759273</td>\n",
       "      <td>108.493523</td>\n",
       "      <td>0.809658</td>\n",
       "    </tr>\n",
       "    <tr>\n",
       "      <th>8</th>\n",
       "      <td>2030</td>\n",
       "      <td>130.644404</td>\n",
       "      <td>111.410221</td>\n",
       "      <td>0.643926</td>\n",
       "    </tr>\n",
       "  </tbody>\n",
       "</table>\n",
       "</div>"
      ],
      "text/plain": [
       "   Anho  FPI_Nominal  Precio_Brent  Inflacion_Mundial\n",
       "0  2022   143.653643    100.930000           7.967574\n",
       "1  2023   123.990957     82.490000           1.804050\n",
       "2  2024   119.458799     94.547055           1.638318\n",
       "3  2025   121.302203     97.251413           1.472586\n",
       "4  2026   123.153953     99.998239           1.306854\n",
       "5  2027   125.014048    102.787532           1.141122\n",
       "6  2028   126.882488    105.619294           0.975390\n",
       "7  2029   128.759273    108.493523           0.809658\n",
       "8  2030   130.644404    111.410221           0.643926"
      ]
     },
     "execution_count": 2,
     "metadata": {},
     "output_type": "execute_result"
    }
   ],
   "source": [
    "test_data = pd.read_csv(\"/Users/User/Desktop/Proyecto-CF/proyecto/data/Consolidado/Datos-Proyeccion-Natalidad-prediccion_copia.csv\", encoding='utf-8')\n",
    "#test_data\n",
    "nuevos_nombres = {'Año': 'Anho', 'FPI (Nominal)': 'FPI_Nominal','Precio Brent':'Precio_Brent','Mundo (Inflacion)':'Inflacion_Mundial'}\n",
    "test_data.rename(columns = nuevos_nombres,inplace=True)\n",
    "test_data"
   ]
  },
  {
   "cell_type": "code",
   "execution_count": 5,
   "id": "50787f34-8135-46c9-b68a-d32023fb7d9d",
   "metadata": {},
   "outputs": [
    {
     "data": {
      "text/plain": [
       "'[{\"Anho\":2022,\"FPI_Nominal\":143.653643,\"Precio_Brent\":100.93,\"Inflacion_Mundial\":7.9675736},{\"Anho\":2023,\"FPI_Nominal\":123.990957,\"Precio_Brent\":82.49,\"Inflacion_Mundial\":1.8040502161},{\"Anho\":2024,\"FPI_Nominal\":119.4587987068,\"Precio_Brent\":94.5470548879,\"Inflacion_Mundial\":1.6383181863},{\"Anho\":2025,\"FPI_Nominal\":121.3022032044,\"Precio_Brent\":97.2514128762,\"Inflacion_Mundial\":1.4725861566},{\"Anho\":2026,\"FPI_Nominal\":123.1539529252,\"Precio_Brent\":99.9982387238,\"Inflacion_Mundial\":1.3068541268},{\"Anho\":2027,\"FPI_Nominal\":125.0140478691,\"Precio_Brent\":102.7875324307,\"Inflacion_Mundial\":1.141122097},{\"Anho\":2028,\"FPI_Nominal\":126.8824880361,\"Precio_Brent\":105.6192939967,\"Inflacion_Mundial\":0.9753900673},{\"Anho\":2029,\"FPI_Nominal\":128.7592734262,\"Precio_Brent\":108.493523422,\"Inflacion_Mundial\":0.8096580375},{\"Anho\":2030,\"FPI_Nominal\":130.6444040394,\"Precio_Brent\":111.4102207065,\"Inflacion_Mundial\":0.6439260078}]'"
      ]
     },
     "execution_count": 5,
     "metadata": {},
     "output_type": "execute_result"
    }
   ],
   "source": [
    "json_data = test_data.to_json(orient='records')\n",
    "json_data"
   ]
  },
  {
   "cell_type": "code",
   "execution_count": 81,
   "id": "d11686ca-c53e-459d-8f1c-191b15e1dd40",
   "metadata": {},
   "outputs": [],
   "source": [
    "response = requests.post(\n",
    "    'http://localhost:3000/predict', \n",
    "    data=json_data\n",
    "    \n",
    ")\n",
    "\n",
    "predictions = response.json()"
   ]
  },
  {
   "cell_type": "code",
   "execution_count": 82,
   "id": "9f27971f-eaf1-4ded-a8cd-6e74d18e2807",
   "metadata": {},
   "outputs": [
    {
     "data": {
      "text/plain": [
       "<Response [500]>"
      ]
     },
     "execution_count": 82,
     "metadata": {},
     "output_type": "execute_result"
    }
   ],
   "source": [
    "response"
   ]
  },
  {
   "cell_type": "code",
   "execution_count": 83,
   "id": "cf87dc34-249d-44b2-8599-8a00549df911",
   "metadata": {},
   "outputs": [],
   "source": [
    "predictions = response.json()"
   ]
  },
  {
   "cell_type": "code",
   "execution_count": null,
   "id": "e4bc03ed-3891-4360-a203-1413384553b0",
   "metadata": {},
   "outputs": [],
   "source": []
  }
 ],
 "metadata": {
  "kernelspec": {
   "display_name": "Python 3 (ipykernel)",
   "language": "python",
   "name": "python3"
  },
  "language_info": {
   "codemirror_mode": {
    "name": "ipython",
    "version": 3
   },
   "file_extension": ".py",
   "mimetype": "text/x-python",
   "name": "python",
   "nbconvert_exporter": "python",
   "pygments_lexer": "ipython3",
   "version": "3.11.7"
  }
 },
 "nbformat": 4,
 "nbformat_minor": 5
}
